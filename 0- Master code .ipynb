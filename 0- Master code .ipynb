{
 "cells": [
  {
   "cell_type": "markdown",
   "metadata": {},
   "source": [
    "# READ DATA"
   ]
  },
  {
   "cell_type": "code",
   "execution_count": null,
   "metadata": {},
   "outputs": [],
   "source": [
    "dt = pd.read_csv('USRET_Journey_data_10-18-2018.csv', delimiter= '\\t' ) \n",
    "dt = pd.read_excel('USRET_Journey_data_10-18-2018.csv', delimiter= '\\t' ) \n",
    "dt = pd.read_excel (r'C:\\Users\\usdaje01\\OneDrive - Ingram Micro\\Elaheh Dj\\Learning\\ANN Regression data\\Folds5x2_pp.xlsx', sheet_name='your Excel sheet name')\n",
    "\n",
    "\n",
    "#yopu can have an online file and you can put the name of sheet if you have more than one sheet\n",
    "file_name = \"https://raw.githubusercontent.com/rajeevratan84/datascienceforbusiness/master/OnlineRetail.xlsx\"\n",
    "df = pd.read_excel(file_name, sheet_name='Online Retail')"
   ]
  },
  {
   "cell_type": "markdown",
   "metadata": {},
   "source": [
    "# Upgrade a package in python "
   ]
  },
  {
   "cell_type": "code",
   "execution_count": null,
   "metadata": {},
   "outputs": [],
   "source": [
    "pip install [package_name] --upgrade"
   ]
  },
  {
   "cell_type": "markdown",
   "metadata": {},
   "source": [
    "# Get path of a file"
   ]
  },
  {
   "cell_type": "code",
   "execution_count": null,
   "metadata": {},
   "outputs": [],
   "source": [
    "pwd\n",
    "\n",
    "import os \n",
    "\n",
    "os.getcwd()"
   ]
  },
  {
   "cell_type": "markdown",
   "metadata": {},
   "source": [
    "# Print output with a sentence"
   ]
  },
  {
   "cell_type": "code",
   "execution_count": null,
   "metadata": {},
   "outputs": [],
   "source": [
    "print('Date Range: %s to %s' % (df['InvoiceDate'].min(), df['InvoiceDate'].max()))"
   ]
  },
  {
   "cell_type": "markdown",
   "metadata": {},
   "source": [
    "# Differencs between loc and iloc"
   ]
  },
  {
   "cell_type": "markdown",
   "metadata": {},
   "source": [
    "Differencs between loc and iloc\n",
    "\n",
    "loc is label-based, which means that you have to specify rows and columns based on their row and column labels.\n",
    "iloc is integer position-based, so you have to specify rows and columns by their integer position values (0-based integer position).\n",
    "\n",
    "loc: label based selection\n",
    "iloc: integer position based selection\n"
   ]
  },
  {
   "cell_type": "markdown",
   "metadata": {},
   "source": [
    "# dataframe"
   ]
  },
  {
   "cell_type": "code",
   "execution_count": null,
   "metadata": {},
   "outputs": [],
   "source": [
    "#make dataframe\n",
    "df= pd.DataFrame(dt, columns=['SK_CUST_RM_ID','kmeanBalance'])\n",
    "\n",
    "# Load our CSV file using pandas\n",
    "file_name = \"https://raw.githubusercontent.com/rajeevratan84/datascienceforbusiness/master/titanic.csv\"\n",
    "df = pd.read_csv(file_name)\n",
    "\n",
    "# Saving to a CSV file\n",
    "df.to_csv(\"myDataFrame2.csv\")\n",
    "\n",
    "# Of even an excel file\n",
    "df.to_excel(\"myDataFrame2.xlsx\")\n",
    "\n",
    "#DataFrames can loaded from excel sheets, python lists, dictionaries and more\n",
    "# Create a list\n",
    "list_a = ['a', 'b', 'c']\n",
    "df = pd.DataFrame(list_a)\n",
    "\n",
    "#based on dictionary \n",
    "df = pd.DataFrame({\n",
    "    'http_status': [200,200,404,404,301],\n",
    "    'response_time': [0.04, 0.02, 0.07, 0.08, 1.0]})\n",
    "\n",
    "\n",
    "# let's create a simple DataFrame\n",
    "\n",
    "df = pd.DataFrame({\n",
    "    'a': [1,2,3,4,5],\n",
    "    'b': [5, 15, 10, 20, 15]})\n",
    "\n",
    "# Let's extract a series for 'a' and 'b' >> a is the name of column\n",
    "a = df['a']\n",
    "\n",
    "\n",
    "# Note Axis = 0 is used by default and calculates the column statistics\n",
    "df[[\"fare\",\"age\"]].mean(axis=0)\n",
    "\n",
    "\n",
    "\n",
    "#if we have data and name of columns in seprate files we can use below codes\n",
    "\n",
    "df = pd.DataFrame(nameofdata.values, columns = column_names)"
   ]
  },
  {
   "cell_type": "markdown",
   "metadata": {},
   "source": [
    "# set Index for a data frame"
   ]
  },
  {
   "cell_type": "code",
   "execution_count": null,
   "metadata": {},
   "outputs": [],
   "source": [
    "df = df.set_index('INVOICEDT')"
   ]
  },
  {
   "cell_type": "markdown",
   "metadata": {},
   "source": [
    "# Type"
   ]
  },
  {
   "cell_type": "code",
   "execution_count": null,
   "metadata": {},
   "outputs": [],
   "source": [
    "df.dtypes"
   ]
  },
  {
   "cell_type": "markdown",
   "metadata": {},
   "source": [
    "# concat two table or insert a table to another table "
   ]
  },
  {
   "cell_type": "code",
   "execution_count": null,
   "metadata": {},
   "outputs": [],
   "source": [
    "pd.concat([df1, df2])   #df1 dataframe one and dataframe two\n",
    "\n",
    "#if you have diffent couln name you will get them as seprate columns but you should have at leaset one similar coloumn \n",
    "\n",
    "\n",
    "# We can use axis = 1 to stack horizontally \n",
    "pd.concat([df1, df2], axis = 1)\n",
    "\n",
    "\n",
    "\n",
    "#Similarly we can use Append to add multiple dataFrames onto another\n",
    "df1.append([df2, df3])"
   ]
  },
  {
   "cell_type": "markdown",
   "metadata": {},
   "source": [
    "# Merge or Join like SQL "
   ]
  },
  {
   "cell_type": "code",
   "execution_count": null,
   "metadata": {},
   "outputs": [],
   "source": [
    "# Merging on unique keys \n",
    "# by default we're doing an inner join\n",
    "pd.merge(dfA, dfB, on='key')\n",
    "\n",
    "pd.merge(dfA, dfB, how='left', on='key')\n",
    "\n",
    "# Inner Joins\n",
    "pd.merge(dfA, dfB, how='inner', on='key')\n",
    "\n",
    "# Outer Joins\n",
    "pd.merge(dfA, dfB, how='outer', on='key')\n",
    "\n",
    "\n",
    "#by join\n",
    "df1.join(df2, how='outer')"
   ]
  },
  {
   "cell_type": "markdown",
   "metadata": {},
   "source": [
    "# Describe and summary of columns"
   ]
  },
  {
   "cell_type": "code",
   "execution_count": null,
   "metadata": {},
   "outputs": [],
   "source": [
    "#describe code make a summary of numeric columns \n",
    "df.describe()\n",
    "df.info()\n",
    "\n",
    "\n",
    "#decribe baased on specific columns\n",
    "df.groupby('Promotion').describe()['AgeOfStore']\n",
    "\n",
    "# View the last 5 lines\n",
    "df.tail(10)\n",
    "\n",
    "\n",
    "# Summarize our dataset \n",
    "print (\"Rows     : \" ,churn_df.shape[0])\n",
    "print (\"Columns  : \" ,churn_df.shape[1])\n",
    "print (\"\\nFeatures : \\n\" ,churn_df.columns.tolist())\n",
    "print (\"\\nMissing values :  \", churn_df.isnull().sum().values.sum())\n",
    "print (\"\\nUnique values :  \\n\",churn_df.nunique())\n",
    "\n",
    "\n",
    "\n",
    "\n",
    "\n",
    "summary = pd.concat([pd.crosstab(df[x], df.Churn) for x in df.columns[:-1]], keys=df.columns[:-1])\n",
    "summary"
   ]
  },
  {
   "cell_type": "markdown",
   "metadata": {},
   "source": [
    "# Unique or distinct value of a column "
   ]
  },
  {
   "cell_type": "code",
   "execution_count": null,
   "metadata": {},
   "outputs": [],
   "source": [
    "df.SeniorCitizen.unique()    #SeniorCitizen is name of column\n",
    "\n",
    "\n",
    "#count number of unique date for all columns\n",
    "df.nunique()\n",
    "\n",
    "\n",
    "len(churn_df.MonthlyCharges.unique())  #count distinct number of a column"
   ]
  },
  {
   "cell_type": "markdown",
   "metadata": {},
   "source": [
    "# List "
   ]
  },
  {
   "cell_type": "code",
   "execution_count": null,
   "metadata": {},
   "outputs": [],
   "source": [
    "a = [1,4,3,7,2,6,3]\n",
    "\n",
    "a.max()\n",
    "a.min()\n",
    "a.mean()\n",
    "a.median()\n",
    "a.mode()\n",
    "a.sum()\n",
    "a.sort_values()\n",
    "a.sort_values(ascending=False)\n",
    "a.value_counts()\n",
    "a[:1]"
   ]
  },
  {
   "cell_type": "markdown",
   "metadata": {},
   "source": [
    "# make table to csv file"
   ]
  },
  {
   "cell_type": "code",
   "execution_count": null,
   "metadata": {},
   "outputs": [],
   "source": [
    "df.to_csv('mainresultKmeans.csv',encoding='utf-8')"
   ]
  },
  {
   "cell_type": "markdown",
   "metadata": {},
   "source": [
    "# head of columns or top 5 rows"
   ]
  },
  {
   "cell_type": "code",
   "execution_count": null,
   "metadata": {},
   "outputs": [],
   "source": [
    "df.head(5)"
   ]
  },
  {
   "cell_type": "markdown",
   "metadata": {},
   "source": [
    "# Count number of columns"
   ]
  },
  {
   "cell_type": "code",
   "execution_count": null,
   "metadata": {},
   "outputs": [],
   "source": [
    "len(df.columns)"
   ]
  },
  {
   "cell_type": "markdown",
   "metadata": {},
   "source": [
    "# missing value "
   ]
  },
  {
   "cell_type": "code",
   "execution_count": null,
   "metadata": {},
   "outputs": [],
   "source": [
    "df.isna().sum()\n",
    "#fill na values with zero for specific amount\n",
    "df[\"D_HH_INC_MID_AMT\"].fillna((0), inplace=True)\n",
    "\n",
    "\n",
    "#replace missing value with mode\n",
    "df[\"D_HH_EDU_CD\"].fillna(df[\"D_HH_EDU_CD\"].mode()[0], inplace=True)\n",
    "\n",
    "#replace missing value with an amount \n",
    "df[\"D_HH_EDU_CD\"].fillna(\"No College\", inplace = True) \n",
    "\n",
    "\n",
    "#replace  bfill, backfill or ffill which fills the place with value in the Forward index or Previous/Back respectively.\n",
    "df[\"D_HH_EDU_CD\"].fillna(method='ffill' , inplace=True)\n",
    "\n",
    "#replcae missing value with zero\n",
    "df[\"D_HH_EDU_CD\"].fillna((0), inplace=True)\n",
    "\n",
    "#drop missing value \n",
    "df = df[df['TotalCharges'] != \" \"]\n"
   ]
  },
  {
   "cell_type": "markdown",
   "metadata": {},
   "source": [
    "# Where or condition "
   ]
  },
  {
   "cell_type": "code",
   "execution_count": null,
   "metadata": {},
   "outputs": [],
   "source": [
    "#get information about a row based on an specific coloumn\n",
    "df.loc[df['SK_CUST_RM_ID'] == 31579712]\n",
    "\n",
    "#count the number of value les than specific amount\n",
    "n1=(df['TOTALBALANCE'] < -9000).value_counts()\n",
    "\n",
    "df['Class'].value_counts()[0]  #it counts column class with value 0 \n",
    "\n",
    "session_counts[session_counts > 1].count()\n",
    "\n",
    "# Remove quantities that are less than 0 (possibly returned items)\n",
    "df = df.loc[df['Quantity'] > 0]\n",
    "\n",
    "#replace vased on a coloumn less than specific amount with a number\n",
    "df[df['TOTALBALANCE'] < -10000] = 0\n",
    "\n",
    "#select rows based on some condition \n",
    "C2= df.loc[(df['KMEANB'] == 2) | (df['KMEANB'] == 3) | (df['KMEANB'] == 4)]\n",
    "\n",
    "zero_sales = df[(df.columnname1 != 0) & (df.columnname2 == 0)]\n",
    "\n",
    "C21R = C11.loc[(C11['FICO8'] <680)   & (C11['D_HH_INC_MID_AMT'] >= 100000) & (C11['CUST_AGE'] <40) ]\n",
    "\n",
    "C21R1 = C21R.loc[(C21R['FICO8'] != 0)\n",
    "                 \n",
    "    \n",
    "df['Sales'] = df['Quantity'] * df['UnitPrice']                 \n",
    "#select specif cloumns \n",
    "df['countproduct']= df.loc[:, 'PROD_TYP_GRP_CD_001':'PROD_TYP_GRP_CD_010'].count(axis=1)\n",
    "\n",
    "\n",
    "#join coloumns in one cloumns >>>11 is the number of coloumns that we want to join. it means join, form coloumn 1 to cloumn 1o\n",
    "df['Column2'] = df[df.columns[1:11]].apply(lambda x: ','.join(x.dropna().astype(int).astype(str)),axis=1)\n",
    "                 "
   ]
  },
  {
   "cell_type": "markdown",
   "metadata": {},
   "source": [
    "# duplicate"
   ]
  },
  {
   "cell_type": "code",
   "execution_count": null,
   "metadata": {},
   "outputs": [],
   "source": [
    "#does the coloumn have duplicate or not \n",
    "print(any(df['SK_CUST_RM_ID'].duplicated())) \n",
    "  \n",
    "#drop duplicate\n",
    "df.drop_duplicates(subset=['SK_CUST_RM_ID'], keep=False, inplace=True)\n",
    "\n",
    "#list of all data with count duplicate\n",
    "list_duplicate=[len(list(group)) for key, group in groupby(df['SK_CUST_RM_ID'])]"
   ]
  },
  {
   "cell_type": "markdown",
   "metadata": {},
   "source": [
    "# Renaming columns "
   ]
  },
  {
   "cell_type": "code",
   "execution_count": null,
   "metadata": {},
   "outputs": [],
   "source": [
    "new_columns = {'ano' : 'year',\n",
    "               'estado': 'state',\n",
    "               'mes': 'month',\n",
    "               'numero': 'number_of_fires',\n",
    "               'encontro': 'date'}\n",
    "\n",
    "df.rename(columns = new_columns, inplace=True)"
   ]
  },
  {
   "cell_type": "markdown",
   "metadata": {},
   "source": [
    "# Rearrenging columns "
   ]
  },
  {
   "cell_type": "code",
   "execution_count": null,
   "metadata": {},
   "outputs": [],
   "source": [
    "# Columns are numbered from 0, left to right\n",
    "# Let's put date first, month second and year 3rd\n",
    "\n",
    "new_order = [4,1,0,2,3,]\n",
    "df = df[df.columns[new_order]]\n",
    "df.head()"
   ]
  },
  {
   "cell_type": "markdown",
   "metadata": {},
   "source": [
    "# Drop a column"
   ]
  },
  {
   "cell_type": "code",
   "execution_count": null,
   "metadata": {},
   "outputs": [],
   "source": [
    "df.drop(['customerID','MonthlyCharges', 'TotalCharges', 'tenure'], axis=1, inplace=True)"
   ]
  },
  {
   "cell_type": "markdown",
   "metadata": {},
   "source": [
    "# groupby"
   ]
  },
  {
   "cell_type": "code",
   "execution_count": null,
   "metadata": {},
   "outputs": [],
   "source": [
    "# #get some information about a coloumn\n",
    "[df[\"TOTALBALANCE\"].sum(), \n",
    " df[\"TOTALBALANCE\"].mean(),\n",
    " df[\"TOTALBALANCE\"].median(), \n",
    " df[\"TOTALBALANCE\"].max(),\n",
    " df[\"TOTALBALANCE\"].min()]\n",
    "\n",
    "\n",
    "#groupby \n",
    "group=df.groupby(['CUST_STATE']).sum()\n",
    "group=df.groupby(['CUST_STATE']).count()\n",
    "group=df.groupby(['CUST_STATE']).mean()\n",
    "group=df.groupby(['CUST_STATE']).median()\n",
    "\n",
    "\n",
    "\n",
    "#groupby \n",
    "df.groupby('Promotion').sum()['SalesInThousands']\n",
    "\n",
    "#groupby based on two column    --- this one is stack one\n",
    "df.groupby(['Promotion', 'MarketSize']).count()['MarketID']\n",
    "\n",
    "\n",
    "# Using unstack -- it's a kind of like pivot table\n",
    "df.groupby(['Promotion', 'MarketSize']).count()['MarketID'].unstack('MarketSize')\n",
    "\n",
    "\n",
    "#groupby store type and sum customers and sales\n",
    "df.groupby('StoreType')['Customers', 'Sales'].sum()\n",
    "\n",
    "\n",
    "# Get a orders summary dataset that shows the total in sales made per customer invoice\n",
    "orders_df = df.groupby(['CustomerID', 'InvoiceNo']).agg({'Sales': sum,'InvoiceDate': max})\n",
    "\n",
    "\n",
    "#count in a column \n",
    "df['Churn'].value_counts(sort = False)"
   ]
  },
  {
   "cell_type": "markdown",
   "metadata": {},
   "source": [
    "# Null"
   ]
  },
  {
   "cell_type": "code",
   "execution_count": null,
   "metadata": {},
   "outputs": [],
   "source": [
    "#select rows based on not null in coloumns \n",
    "filtered_df = C1[C1['PROD_TYP_GRP_CD_002'].notnull()]\n",
    "df[df['cabin'].isnull()]\n",
    "\n",
    "#drop null values\n",
    "df = df.dropna()\n",
    "\n",
    "df[df['cabin'].notnull()\n",
    "   \n",
    "   \n",
    "   # Remove blank customer IDs\n",
    "df = df[pd.notnull(df['CustomerID'])]"
   ]
  },
  {
   "cell_type": "markdown",
   "metadata": {},
   "source": [
    "# Import Datasets"
   ]
  },
  {
   "cell_type": "code",
   "execution_count": null,
   "metadata": {},
   "outputs": [],
   "source": [
    "X = dataset.iloc[:, :-1].values\n",
    "y = dataset.iloc[:, -1].values\n",
    "\n",
    "\n",
    "#or \n",
    "\n",
    "# We remove the label values from our training data\n",
    "X = df.drop(['Churn'], axis=1).values\n",
    "\n",
    "# We assigned those label values to our Y dataset\n",
    "y = df['Churn'].values"
   ]
  },
  {
   "cell_type": "markdown",
   "metadata": {},
   "source": [
    "# Training and test sets "
   ]
  },
  {
   "cell_type": "code",
   "execution_count": null,
   "metadata": {},
   "outputs": [],
   "source": [
    "from sklearn.model_selection import train_test_split\n",
    "X_train, X_test, y_train, y_test = train_test_split(X, y, test_size = 0.2, random_state = 0)"
   ]
  },
  {
   "cell_type": "markdown",
   "metadata": {},
   "source": [
    "# make a copy"
   ]
  },
  {
   "cell_type": "code",
   "execution_count": null,
   "metadata": {},
   "outputs": [],
   "source": [
    "df_copy = df.copy()"
   ]
  },
  {
   "cell_type": "markdown",
   "metadata": {},
   "source": [
    "# Make random data"
   ]
  },
  {
   "cell_type": "code",
   "execution_count": null,
   "metadata": {},
   "outputs": [],
   "source": [
    "x = np.random.randint(0,1000,size=10)) #it gives you 10 random integer numbers between 0 to 1000\n",
    "x2 =  np.random.uniform (0,10, 100)   #it gives us float number\n",
    "    \n",
    "    \n",
    "y = np.arange(1, len(x)+1) / len(x) # it gives you sort numbers 1 to 10"
   ]
  },
  {
   "cell_type": "markdown",
   "metadata": {},
   "source": [
    "# Time series Data"
   ]
  },
  {
   "cell_type": "code",
   "execution_count": null,
   "metadata": {},
   "outputs": [],
   "source": [
    "#libraries\n",
    "from datetime import datetime\n",
    "\n",
    "# Let's create a pandas series that logs time every hour from 1st Nov'19 to 7th Nov'19\n",
    "df = pd.date_range(start='11/01/2019', end='11/07/2019', freq='H')\n",
    "\n",
    "#Now let's turn our series into a dataframe\n",
    "df = pd.DataFrame(df, columns=['date'])\n",
    "\n",
    "# Set your date as the index \n",
    "df = df.set_index('date')\n",
    "\n",
    "# Selecting using date - getting exact value for cell \n",
    "df.loc['2019-11-01 03:00:00', 'sales']\n",
    "\n",
    "# Selecting using date to return the row corresponding to that date\n",
    "df.loc['2019-11-01 03:00:00']\n",
    "\n",
    "# Selecting an entire day\n",
    "df.loc['2019-11-01']\n",
    "\n",
    "\n",
    "pd.to_datetime('2019-11-01', format='%Y-%m-%d', errors='ignore')"
   ]
  },
  {
   "cell_type": "markdown",
   "metadata": {},
   "source": [
    "# Time series - Resampling"
   ]
  },
  {
   "cell_type": "markdown",
   "metadata": {},
   "source": [
    "Resampling. Resampling involves changing the frequency of your time series observations. Two types of resampling are: Upsampling: Where you increase the frequency of the samples, such as from minutes to seconds. Downsampling: Where you decrease the frequency of the samples, such as from days to months.\n",
    "\n",
    "\n",
    "we have two typpe of resampling downsampling , upresampling. downresampling is the normal one when we want to get the sum, .. for a day or week, ... \n",
    "upresampling is when we go granular level like in seconds\n",
    "\n",
    "Summary States \n",
    "        - we can use Statistical methods over different time intervals\n",
    "\n",
    "mean(), sum(), count(), min(), max()\n",
    "Down-sampling\n",
    "\n",
    "        - reduce datetime rows to longer frequency\n",
    "Up-sampling\n",
    "\n",
    "        - increase datetime rows to shorter frequency\n",
    "        \n",
    "        \n",
    "Resampling frequencies \n",
    "\n",
    "'min', 'T'    - minute\n",
    "‘H’           - hour\n",
    "‘D’           - day\n",
    "‘B’           - business day\n",
    "‘W’           - week\n",
    "‘M’           - month\n",
    "‘Q’           - quarter\n",
    "‘A’           - year\n",
    "\n",
    "There are 2 prerequisites to carry out resampling:\n",
    "The Datetime column must be in “datetime” or “timestamp” data type.\n",
    "The Datetime column must be the index"
   ]
  },
  {
   "cell_type": "code",
   "execution_count": null,
   "metadata": {},
   "outputs": [],
   "source": [
    "# Using resample to get the average for each day per hour\n",
    "df.resample('D').mean()  #D for days\n",
    "\n",
    "# Using resample to get the average for each minute (downsampling)\n",
    "df.resample('T').mean()  #T for minutes\n",
    "\n",
    "\n",
    "#resampling with plot \n",
    "df.resample('W').sum().plot(ax = ax1)\n",
    "\n",
    "\n",
    "#get datetime \n",
    "df['Datetime'] = pd.to_datetime(df['Datetime'])\n",
    "#set the Datetime column as the index\n",
    "df.set_index(‘Datetime’, inplace = True)\n",
    "# Alternative\n",
    "df.resample(on='Datetime')"
   ]
  },
  {
   "cell_type": "code",
   "execution_count": null,
   "metadata": {},
   "outputs": [],
   "source": [
    "df = pd.DataFrame({'year': [2015, 2016],\n",
    "                   'month': [2, 3],\n",
    "                   'day': [4, 5]})\n",
    "\n",
    "\n",
    "#have year or month as seprate columns \n",
    "df['Year'] = df.index.year\n",
    "df['Month'] = df.index.month"
   ]
  },
  {
   "cell_type": "markdown",
   "metadata": {},
   "source": [
    "# Forcasting sales"
   ]
  },
  {
   "cell_type": "markdown",
   "metadata": {},
   "source": [
    "# Seasonal decompose "
   ]
  },
  {
   "cell_type": "markdown",
   "metadata": {},
   "source": [
    "The Seasonal Decomposition procedure decomposes a series into a seasonal component, a combined trend and cycle component, and an \"error\" component. The procedure is an implementation of the Census Method I, otherwise known as the ratio-to-moving-average method\n",
    "\n",
    "decompose the data into trend and cyclical components.\n",
    "\n",
    " first step when approaching a new time series project is to smooth out the data with something like a rolling average. This has two main benefits. One is that real world data tends to jump around a bit, even if there is a clear underlying trend, and looking at the rolling average makes it easier to tell how the trend is moving underneath the noise. Second, finding a trend in this or a similar manner is the first step towards creating a seasonal decomposition.\n",
    " \n",
    " \n",
    " One use of a creating a smoothed trend line in this fashion is to perform seasonal decomposition, to break out the original data into components for the trend, cyclical deviations from this trend and then whatever residuals are left over. Well, notice that as you increase the size of the rolling average’s window the impact of the seasonal fluctuations fade away. If your rolling average considers a window that is the same size as your seasonal cycle, it essentially washes out the seasonal cycle altogether by considering one of each month in the cycle\n",
    " \n",
    " \n",
    "seasonal_decompose(). It requires that you specify whether the model is additive or multiplicative.Both will produce a result and you must be careful to be critical when interpreting the result\n",
    "\n",
    "An additive model suggests that the components are added together as follows:\n",
    "y(t) = Level + Trend + Seasonality + Noise\n",
    "An additive model is linear where changes over time are consistently made by the same amount.\n",
    "A linear trend is a straight line.\n",
    "A linear seasonality has the same frequency (width of cycles) and amplitude (height of cycles).\n",
    "\n",
    "\n",
    "\n",
    "A multiplicative model suggests that the components are multiplied together as follows:\n",
    "y(t) = Level * Trend * Seasonality * Noise\n",
    "A multiplicative model is nonlinear, such as quadratic or exponential. Changes increase or decrease over time.\n",
    "A nonlinear trend is a curved line.\n",
    "A non-linear seasonality has an increasing or decreasing frequency and/or amplitude over time."
   ]
  },
  {
   "cell_type": "code",
   "execution_count": null,
   "metadata": {},
   "outputs": [],
   "source": [
    "decomposition = seasonal_decompose(df['sale'], model = 'additive', freq = 365)\n",
    "decomposition.trend.plot(color = c, ax = ax1)"
   ]
  },
  {
   "cell_type": "markdown",
   "metadata": {},
   "source": [
    "# ACF"
   ]
  },
  {
   "cell_type": "code",
   "execution_count": null,
   "metadata": {},
   "outputs": [],
   "source": [
    "plt.subplot(421); plot_acf(df['sale'], lags = 50, ax = plt.gca(), color = c)"
   ]
  },
  {
   "cell_type": "markdown",
   "metadata": {},
   "source": [
    "# PACF"
   ]
  },
  {
   "cell_type": "code",
   "execution_count": null,
   "metadata": {},
   "outputs": [],
   "source": [
    "plt.subplot(422); plot_pacf(df['sale'], lags = 50, ax = plt.gca(), color = c)"
   ]
  },
  {
   "cell_type": "markdown",
   "metadata": {},
   "source": [
    "# Prophet Model - forcasting time series"
   ]
  },
  {
   "cell_type": "markdown",
   "metadata": {},
   "source": [
    "Prophet is a facebooks’ open source time series prediction. Prophet decomposes time series into trend, seasonality and holiday. It has intuitive hyper parameters which are easy to tune.\n",
    "\n",
    "Prophet time series = Trend + Seasonality + Holiday + error\n",
    "\n",
    "Trend models non periodic changes in the value of the time series.\n",
    "Seasonality is the periodic changes like daily, weekly, or yearly seasonality.\n",
    "Holiday effect which occur on irregular schedules over a day or a period of days.\n",
    "Error terms is what is not explained by the model.\n",
    "\n",
    "Advantages of using Prophet\n",
    "Accommodates seasonality with multiple periods\n",
    "Prophet is resilient to missing values\n",
    "Best way to handle outliers in Prophet is to remove them\n",
    "Fitting of the model is fast\n",
    "Intuitive hyper parameters which are easy to tune\n",
    "\n",
    "\n",
    "https://facebook.github.io/prophet/docs/quick_start.html\n",
    "\n",
    "\n",
    "Growth:\n",
    "      Linear:If you plot your data and you see a trend that keeps on growing with no real saturation insight, you will set       this parameter to “linear”.\n",
    "      Logistic: If you plot it and you see a curve that is showing promise of saturation  then you will set it to logistic.\n",
    "      if we chose logistic we need to define cap and floor that we can ask our stakeholders for this parameter\n",
    "      \n",
    "Holidays:\n",
    "\n",
    "if we want to use holidays data we need to have our data as daily data not hourly or weekly. \n",
    "The other parameter that deals with holidays is holidays_prior_scale. This parameter determines how much of an       effect holidays should have on your predictions.     So for instance when you are dealing with population predictions and you know holidays will have a big effect, try big values. Normally values between 20 and 40 will work, otherwise the default value of 10 usually works quite well\n",
    "\n",
    "Changepoints:\n",
    "\n",
    "Changepoints are the points in your data where there are sudden and abrupt changes in the trend.\n",
    "There are four hyperparameters for changepoints: changepoints, n_changepoints, changepoint_range and changepoint_prior_scale.\n",
    "The changepoints parameter is used when you supply the changepoint dates instead of having Prophet determine them. Once you have provided your own changepoints, Prophet will not estimate any more changepoints.\n",
    "it's better  letting Prophet discover them on its own and me changing the number of changepoints (with n_changepoints) gave the best results.\n",
    "The changepoint_range usually does not have that much of an effect on the performance. it has the best results by just keeping it at the default\n",
    "changepoint_prior_scale, is there to indicate how flexible the changepoints are allowed to be. In other words, how much can the changepoints fit to the data. If you make it high it will be more flexible, but you can end up overfitting. I have found that values between 10 and 30 work for me, depending on how volatile the data is.\n",
    "\n",
    "Seasonalities:\n",
    "The first big parameter is seasonality_mode. This parameter indicates how your seasonality components should be integrated with the predictions. The default value here is additive with multiplicative being the other option\n",
    "You will use additive when your seasonality trend should be “constant” over the entire period.For example, when you want your yearly trend growth impact to be the same as in 2010 as it is in 2018\n",
    "you will use multiplicative to increase the importance of the seasonalities over time.\n",
    "seasonality_prior_scale parameter will again allow your seasonalities to be more flexible. I have found values between 10 and 25 to work well here, depending on how much seasonality you notice in the components plot.\n",
    "\n",
    "A trick I found to work best for me (and I am open to discussion about this) is to set yearly_seasonality, weekly_seasonality and daily_seasonality all to false and then add in my own seasonalities, as shown in the code snippet below.By doing this you get more power and control over seasonality. \n",
    "\n",
    "MCMC Samples:\n",
    "This parameter determines if the model uses Maximum a posteriori (MAP) estimation or a full Bayesian inference with the specified number of Markov Chain Monte Carlo (MCMC) samples to train and predict.\n",
    "So if you make MCMC zero then it will do MAP estimation, otherwise you need to specify the number of samples to use with MCMC.\n",
    "\n",
    "Uncertainty samples: \n",
    "This is another parameter that does not affect the outcome that much and should be explored for each use case."
   ]
  },
  {
   "cell_type": "code",
   "execution_count": null,
   "metadata": {},
   "outputs": [],
   "source": [
    "# set the uncertainty interval to 95% (the Prophet default is 80%)\n",
    "my_model = Prophet(interval_width = 0.95, \n",
    "                   holidays = holidays)\n",
    "my_model.fit(sales)\n",
    "\n",
    "# dataframe that extends into future 6 weeks \n",
    "future_dates = my_model.make_future_dataframe(periods = 6*7)\n",
    "\n",
    "print(\"First week to forecast.\")\n",
    "future_dates.tail(7)\n",
    "\n",
    "\n",
    "# predictions - takes around ~ 2 min to run\n",
    "forecast = my_model.predict(future_dates)\n",
    "\n",
    "# preditions for last week\n",
    "forecast[['ds', 'yhat', 'yhat_lower', 'yhat_upper']].tail(7)\n",
    "\n",
    "fc = forecast[['ds', 'yhat']].rename(columns = {'Date': 'ds', 'Forecast': 'yhat'})\n",
    "\n",
    "my_model.plot(forecast);\n",
    "\n",
    "my_model.plot_components(forecast);"
   ]
  },
  {
   "cell_type": "markdown",
   "metadata": {},
   "source": [
    "# Visualizations"
   ]
  },
  {
   "cell_type": "code",
   "execution_count": 43,
   "metadata": {},
   "outputs": [
    {
     "name": "stderr",
     "output_type": "stream",
     "text": [
      "C:\\Users\\usdaje01\\AppData\\Local\\Continuum\\anaconda3\\lib\\site-packages\\pandas\\compat\\_optional.py:138: UserWarning: Pandas requires version '2.7.0' or newer of 'numexpr' (version '2.6.9' currently installed).\n",
      "  warnings.warn(msg, UserWarning)\n"
     ]
    },
    {
     "data": {
      "text/html": [
       "<div>\n",
       "<style scoped>\n",
       "    .dataframe tbody tr th:only-of-type {\n",
       "        vertical-align: middle;\n",
       "    }\n",
       "\n",
       "    .dataframe tbody tr th {\n",
       "        vertical-align: top;\n",
       "    }\n",
       "\n",
       "    .dataframe thead th {\n",
       "        text-align: right;\n",
       "    }\n",
       "</style>\n",
       "<table border=\"1\" class=\"dataframe\">\n",
       "  <thead>\n",
       "    <tr style=\"text-align: right;\">\n",
       "      <th></th>\n",
       "      <th>type</th>\n",
       "      <th>fixed acidity</th>\n",
       "      <th>volatile acidity</th>\n",
       "      <th>citric acid</th>\n",
       "      <th>residual sugar</th>\n",
       "      <th>chlorides</th>\n",
       "      <th>free sulfur dioxide</th>\n",
       "      <th>total sulfur dioxide</th>\n",
       "      <th>density</th>\n",
       "      <th>pH</th>\n",
       "      <th>sulphates</th>\n",
       "      <th>alcohol</th>\n",
       "      <th>quality</th>\n",
       "    </tr>\n",
       "  </thead>\n",
       "  <tbody>\n",
       "    <tr>\n",
       "      <th>0</th>\n",
       "      <td>white</td>\n",
       "      <td>7.0</td>\n",
       "      <td>0.27</td>\n",
       "      <td>0.36</td>\n",
       "      <td>20.7</td>\n",
       "      <td>0.045</td>\n",
       "      <td>45.0</td>\n",
       "      <td>170.0</td>\n",
       "      <td>1.0010</td>\n",
       "      <td>3.00</td>\n",
       "      <td>0.45</td>\n",
       "      <td>8.8</td>\n",
       "      <td>6</td>\n",
       "    </tr>\n",
       "    <tr>\n",
       "      <th>1</th>\n",
       "      <td>white</td>\n",
       "      <td>6.3</td>\n",
       "      <td>0.30</td>\n",
       "      <td>0.34</td>\n",
       "      <td>1.6</td>\n",
       "      <td>0.049</td>\n",
       "      <td>14.0</td>\n",
       "      <td>132.0</td>\n",
       "      <td>0.9940</td>\n",
       "      <td>3.30</td>\n",
       "      <td>0.49</td>\n",
       "      <td>9.5</td>\n",
       "      <td>6</td>\n",
       "    </tr>\n",
       "    <tr>\n",
       "      <th>2</th>\n",
       "      <td>white</td>\n",
       "      <td>8.1</td>\n",
       "      <td>0.28</td>\n",
       "      <td>0.40</td>\n",
       "      <td>6.9</td>\n",
       "      <td>0.050</td>\n",
       "      <td>30.0</td>\n",
       "      <td>97.0</td>\n",
       "      <td>0.9951</td>\n",
       "      <td>3.26</td>\n",
       "      <td>0.44</td>\n",
       "      <td>10.1</td>\n",
       "      <td>6</td>\n",
       "    </tr>\n",
       "    <tr>\n",
       "      <th>3</th>\n",
       "      <td>white</td>\n",
       "      <td>7.2</td>\n",
       "      <td>0.23</td>\n",
       "      <td>0.32</td>\n",
       "      <td>8.5</td>\n",
       "      <td>0.058</td>\n",
       "      <td>47.0</td>\n",
       "      <td>186.0</td>\n",
       "      <td>0.9956</td>\n",
       "      <td>3.19</td>\n",
       "      <td>0.40</td>\n",
       "      <td>9.9</td>\n",
       "      <td>6</td>\n",
       "    </tr>\n",
       "    <tr>\n",
       "      <th>4</th>\n",
       "      <td>white</td>\n",
       "      <td>7.2</td>\n",
       "      <td>0.23</td>\n",
       "      <td>0.32</td>\n",
       "      <td>8.5</td>\n",
       "      <td>0.058</td>\n",
       "      <td>47.0</td>\n",
       "      <td>186.0</td>\n",
       "      <td>0.9956</td>\n",
       "      <td>3.19</td>\n",
       "      <td>0.40</td>\n",
       "      <td>9.9</td>\n",
       "      <td>6</td>\n",
       "    </tr>\n",
       "  </tbody>\n",
       "</table>\n",
       "</div>"
      ],
      "text/plain": [
       "    type  fixed acidity  volatile acidity  citric acid  residual sugar  \\\n",
       "0  white            7.0              0.27         0.36            20.7   \n",
       "1  white            6.3              0.30         0.34             1.6   \n",
       "2  white            8.1              0.28         0.40             6.9   \n",
       "3  white            7.2              0.23         0.32             8.5   \n",
       "4  white            7.2              0.23         0.32             8.5   \n",
       "\n",
       "   chlorides  free sulfur dioxide  total sulfur dioxide  density    pH  \\\n",
       "0      0.045                 45.0                 170.0   1.0010  3.00   \n",
       "1      0.049                 14.0                 132.0   0.9940  3.30   \n",
       "2      0.050                 30.0                  97.0   0.9951  3.26   \n",
       "3      0.058                 47.0                 186.0   0.9956  3.19   \n",
       "4      0.058                 47.0                 186.0   0.9956  3.19   \n",
       "\n",
       "   sulphates  alcohol  quality  \n",
       "0       0.45      8.8        6  \n",
       "1       0.49      9.5        6  \n",
       "2       0.44     10.1        6  \n",
       "3       0.40      9.9        6  \n",
       "4       0.40      9.9        6  "
      ]
     },
     "execution_count": 43,
     "metadata": {},
     "output_type": "execute_result"
    }
   ],
   "source": [
    "import pandas as pd\n",
    "import numpy as np\n",
    "\n",
    "file_name = \"https://raw.githubusercontent.com/rajeevratan84/datascienceforbusiness/master/winequalityN.csv\"\n",
    "df = pd.read_csv(file_name)\n",
    "df.head()"
   ]
  },
  {
   "cell_type": "markdown",
   "metadata": {},
   "source": [
    "# ECDF plot"
   ]
  },
  {
   "cell_type": "markdown",
   "metadata": {},
   "source": [
    "ECDF is an estimator of the Cumulative Distribution Function. The ECDF essentially allows you to plot a feature of your data in order from least to greatest and see the whole feature as if is distributed across the data set."
   ]
  },
  {
   "cell_type": "code",
   "execution_count": null,
   "metadata": {},
   "outputs": [],
   "source": [
    "#Method one\n",
    "import dc_stat_think as dcst\n",
    "sns.set(style = \"ticks\")# to format into seaborn \n",
    "c = '#386B7F'           # basic color for plots\n",
    "plt.figure(figsize = (12, 6))\n",
    "\n",
    "#first plot\n",
    "plt.subplot(311)\n",
    "cdf = dcst.ecdf(df['Sales'])\n",
    "plt.plot(cdf.x, cdf.y, label = \"statmodels\", color = c);\n",
    "plt.xlabel('Sales'); plt.ylabel('ECDF');\n",
    "\n",
    "# plot second ECDF  \n",
    "plt.subplot(312)\n",
    "cdf = dcst.ecdf(df['Customers'])\n",
    "plt.plot(cdf.x, cdf.y, label = \"statmodels\", color = c);\n",
    "plt.xlabel('Customers');\n",
    "\n",
    "# plot second ECDF  \n",
    "plt.subplot(313)\n",
    "cdf = dcst.ecdf(df['SalePerCustomer'])\n",
    "plt.plot(cdf.x, cdf.y, label = \"statmodels\", color = c);\n",
    "plt.xlabel('Sale per Customer');\n",
    "\n",
    "#Method two\n",
    "# it sort data and show them as chart\n",
    "import matplotlib.pyplot as plt\n",
    "x = np.sort(df['alcohol'])\n",
    "y = np.arange(1, len(x)+1) / len(x)\n",
    "_ = plt.plot(x, y, marker='.', linestyle='none')\n",
    "plt.margins(0.05)\n",
    "_ = plt.xlabel('Percent of Alcohol in Wine') \n",
    "_ = plt.ylabel('ECDF') \n",
    "plt.grid(True)   # it gives you grid as background of chart\n",
    "plt.show()\n",
    "\n",
    "print(df[\"alcohol\"].quantile(([0.2, 0.8])))"
   ]
  },
  {
   "cell_type": "code",
   "execution_count": null,
   "metadata": {},
   "outputs": [],
   "source": []
  },
  {
   "cell_type": "markdown",
   "metadata": {},
   "source": [
    "# Factor plot "
   ]
  },
  {
   "cell_type": "markdown",
   "metadata": {},
   "source": [
    "Factor Plot is used to draw a different types of categorical plot . The default plot that is shown is a point plot, but we can plot other seaborn categorical plots by using of kind parameter, like box plots, violin plots, bar plots, or strip plots."
   ]
  },
  {
   "cell_type": "code",
   "execution_count": null,
   "metadata": {},
   "outputs": [],
   "source": [
    "#col give you seprate columns for each category in that column. forinstance if column promo has three category a,b,and c -->\n",
    "# it gives us three column (three plot) \n",
    "sns.factorplot(data = df, x = 'Month', y = \"Sales\", col = 'Promo',hue = 'StoreType') \n",
    "\n",
    "# Rotate x-axis labels\n",
    "g.set_xticklabels(rotation=-45)"
   ]
  },
  {
   "cell_type": "markdown",
   "metadata": {},
   "source": [
    "# Plot based on timeseries data"
   ]
  },
  {
   "cell_type": "code",
   "execution_count": null,
   "metadata": {},
   "outputs": [],
   "source": [
    "# plot daily sales\n",
    "ax = sales.set_index('ds').plot(figsize = (12, 4), color = c)\n",
    "ax.set_ylabel('Daily Number of Sales')\n",
    "ax.set_xlabel('Date')\n",
    "plt.show()"
   ]
  },
  {
   "cell_type": "markdown",
   "metadata": {},
   "source": [
    "# Put to picture in one and have subplots "
   ]
  },
  {
   "cell_type": "code",
   "execution_count": null,
   "metadata": {},
   "outputs": [],
   "source": [
    "fig, ax = plt.subplots(1, 2, figsize=(18,4))"
   ]
  },
  {
   "cell_type": "markdown",
   "metadata": {},
   "source": [
    "# Pie Chart"
   ]
  },
  {
   "cell_type": "code",
   "execution_count": null,
   "metadata": {},
   "outputs": [],
   "source": [
    "# Data to plot\n",
    "labels = df['Churn'].value_counts(sort = True).index\n",
    "sizes = df['Churn'].value_counts(sort = True)\n",
    "\n",
    "colors = [\"lightblue\",\"red\"]\n",
    "explode = (0.05,0)  # explode 1st slice\n",
    " \n",
    "rcParams['figure.figsize'] = 7,7\n",
    "# Plot\n",
    "plt.pie(sizes, explode=explode, labels=labels, colors=colors, autopct='%1.1f%%', shadow=True, startangle=90,)\n",
    "\n",
    "plt.title('Customer Churn Breakdown')\n",
    "plt.show()"
   ]
  },
  {
   "cell_type": "markdown",
   "metadata": {},
   "source": [
    "# Use groupby and visualization (Pie chart)"
   ]
  },
  {
   "cell_type": "code",
   "execution_count": null,
   "metadata": {},
   "outputs": [],
   "source": [
    "# Using ggplot's style\n",
    "plt.style.use('ggplot')\n",
    "ax = df.groupby('Promotion').sum()['SalesInThousands'].plot.pie(figsize=(8,8),\n",
    "                                                                autopct='%1.0f%%',\n",
    "                                                                shadow=True,\n",
    "                                                                explode = (0, 0.1, 0))\n",
    "ax.set_ylabel('')\n",
    "ax.set_title('Sales Distribution Across the 3 Different Promotions')\n",
    "\n",
    "plt.show()"
   ]
  },
  {
   "cell_type": "markdown",
   "metadata": {},
   "source": [
    "# Volin Plot"
   ]
  },
  {
   "cell_type": "code",
   "execution_count": null,
   "metadata": {},
   "outputs": [],
   "source": [
    "sns.factorplot(x=\"Churn\", y = \"MonthlyCharges\",data = churn_df, kind=\"violin\", palette = \"Pastel1\")"
   ]
  },
  {
   "cell_type": "markdown",
   "metadata": {},
   "source": [
    "# Bar or factor plot"
   ]
  },
  {
   "cell_type": "code",
   "execution_count": null,
   "metadata": {},
   "outputs": [],
   "source": [
    "sns.set(style=\"whitegrid\", color_codes=True)\n",
    "sns.factorplot(\"sex\", col='education', data=df, hue='Income', kind=\"count\", col_wrap=4);\n",
    "\n",
    "\n",
    "\n",
    "\n",
    "\n",
    "#bar chart + groupby \n",
    "\n",
    "# Put this into a plot\n",
    "ax = df.groupby(['Promotion', 'MarketSize']).count()['MarketID'].unstack('MarketSize').plot(\n",
    "    kind='bar',\n",
    "    figsize=(12,10),\n",
    "    grid=True)\n",
    "\n",
    "ax.set_ylabel('count')\n",
    "ax.set_title('breakdowns of market sizes across different promotions')\n",
    "\n",
    "plt.show()"
   ]
  },
  {
   "cell_type": "markdown",
   "metadata": {},
   "source": [
    "# Barh chart / Bar chart horizontal"
   ]
  },
  {
   "cell_type": "code",
   "execution_count": null,
   "metadata": {},
   "outputs": [],
   "source": [
    "# Visaulize this summary\n",
    "ax = df.groupby(['AgeOfStore', 'Promotion']).count()['MarketID'].unstack('Promotion').iloc[::-1].plot(\n",
    "    kind='barh', \n",
    "    figsize=(14,18),\n",
    "    grid=True)\n",
    "\n",
    "ax.set_ylabel('age')\n",
    "ax.set_xlabel('count')\n",
    "ax.set_title('overall distributions of age of store')\n",
    "\n",
    "plt.show()"
   ]
  },
  {
   "cell_type": "markdown",
   "metadata": {},
   "source": [
    "# Hist bar"
   ]
  },
  {
   "cell_type": "code",
   "execution_count": 56,
   "metadata": {},
   "outputs": [
    {
     "data": {
      "image/png": "[encoded data removed]",
      "text/plain": [
       "<Figure size 720x432 with 1 Axes>"
      ]
     },
     "metadata": {
      "needs_background": "light"
     },
     "output_type": "display_data"
    }
   ],
   "source": [
    "#first Method\n",
    "df.hist(column='alcohol', bins=10, grid=True, figsize=(10,6), color='green')\n",
    "_ = plt.xlabel('Alcohol Percentage')\n",
    "_ = plt.ylabel('Count')\n",
    "_ = plt.title(\"Alcohol Content\")"
   ]
  },
  {
   "cell_type": "code",
   "execution_count": 55,
   "metadata": {},
   "outputs": [
    {
     "data": {
      "image/png": "[encoded data removed]",
      "text/plain": [
       "<Figure size 432x288 with 1 Axes>"
      ]
     },
     "metadata": {
      "needs_background": "light"
     },
     "output_type": "display_data"
    }
   ],
   "source": [
    "#second method\n",
    "import seaborn as sns\n",
    "\n",
    "sns.distplot(df['alcohol'],  bins=25, kde=False )\n",
    "_ = plt.xlabel('Alcohol Percentage')\n",
    "_ = plt.ylabel('Count')\n",
    "_ = plt.title(\"Alcohol Content\")"
   ]
  },
  {
   "cell_type": "code",
   "execution_count": 54,
   "metadata": {},
   "outputs": [
    {
     "data": {
      "image/png": "[encoded data removed]",
      "text/plain": [
       "<Figure size 432x288 with 1 Axes>"
      ]
     },
     "metadata": {
      "needs_background": "light"
     },
     "output_type": "display_data"
    }
   ],
   "source": [
    "#third method\n",
    "sns.distplot(df.alcohol, bins=10, kde=True, color=\"red\")\n",
    "_ = plt.xlabel('Alcohol Percentage')\n",
    "_ = plt.ylabel('Count')\n",
    "_ = plt.title(\"Alcohol Content\")"
   ]
  },
  {
   "cell_type": "markdown",
   "metadata": {},
   "source": [
    "# Box Plot"
   ]
  },
  {
   "cell_type": "markdown",
   "metadata": {},
   "source": [
    "“maximum”: Q3 + 1.5*IQR\n",
    "\n",
    "“minimum”: Q1 -1.5*IQR"
   ]
  },
  {
   "cell_type": "code",
   "execution_count": 62,
   "metadata": {},
   "outputs": [
    {
     "name": "stdout",
     "output_type": "stream",
     "text": [
      "0.25     9.5\n",
      "0.75    11.3\n",
      "Name: alcohol, dtype: float64\n"
     ]
    },
    {
     "data": {
      "text/plain": [
       "<matplotlib.axes._subplots.AxesSubplot at 0x2561cb08048>"
      ]
     },
     "execution_count": 62,
     "metadata": {},
     "output_type": "execute_result"
    },
    {
     "data": {
      "image/png": "[encoded data removed]",
      "text/plain": [
       "<Figure size 432x288 with 1 Axes>"
      ]
     },
     "metadata": {
      "needs_background": "light"
     },
     "output_type": "display_data"
    }
   ],
   "source": [
    "print(df[\"alcohol\"].quantile(([0.25, 0.75])))\n",
    "sns.boxplot(data=df['alcohol'])"
   ]
  },
  {
   "cell_type": "code",
   "execution_count": 64,
   "metadata": {},
   "outputs": [
    {
     "data": {
      "text/plain": [
       "<matplotlib.axes._subplots.AxesSubplot at 0x2561cb76128>"
      ]
     },
     "execution_count": 64,
     "metadata": {},
     "output_type": "execute_result"
    },
    {
     "data": {
      "image/png": "[encoded data removed]",
      "text/plain": [
       "<Figure size 864x576 with 1 Axes>"
      ]
     },
     "metadata": {
      "needs_background": "light"
     },
     "output_type": "display_data"
    }
   ],
   "source": [
    "plt.figure(figsize=(12,8))\n",
    "\n",
    "sns.boxplot(data=df, palette=\"Set3\")  #for all columns"
   ]
  },
  {
   "cell_type": "markdown",
   "metadata": {},
   "source": [
    "# Violin Plots"
   ]
  },
  {
   "cell_type": "code",
   "execution_count": 71,
   "metadata": {},
   "outputs": [
    {
     "data": {
      "text/plain": [
       "<matplotlib.axes._subplots.AxesSubplot at 0x2561e1b2b00>"
      ]
     },
     "execution_count": 71,
     "metadata": {},
     "output_type": "execute_result"
    },
    {
     "data": {
      "image/png": "[encoded data removed]",
      "text/plain": [
       "<Figure size 432x288 with 1 Axes>"
      ]
     },
     "metadata": {
      "needs_background": "light"
     },
     "output_type": "display_data"
    }
   ],
   "source": [
    "sns.violinplot(data=df['alcohol'], palette=\"Set3\")"
   ]
  },
  {
   "cell_type": "markdown",
   "metadata": {},
   "source": [
    "# Scatter Plots"
   ]
  },
  {
   "cell_type": "code",
   "execution_count": 57,
   "metadata": {},
   "outputs": [
    {
     "data": {
      "text/plain": [
       "<seaborn.axisgrid.FacetGrid at 0x2561caa6c50>"
      ]
     },
     "execution_count": 57,
     "metadata": {},
     "output_type": "execute_result"
    },
    {
     "data": {
      "image/png": "[encoded data removed]",
      "text/plain": [
       "<Figure size 360x360 with 1 Axes>"
      ]
     },
     "metadata": {
      "needs_background": "light"
     },
     "output_type": "display_data"
    }
   ],
   "source": [
    "sns.lmplot(x='alcohol', y='fixed acidity', data=df)"
   ]
  },
  {
   "cell_type": "code",
   "execution_count": 58,
   "metadata": {},
   "outputs": [
    {
     "data": {
      "text/plain": [
       "<seaborn.axisgrid.FacetGrid at 0x2561c9b6f60>"
      ]
     },
     "execution_count": 58,
     "metadata": {},
     "output_type": "execute_result"
    },
    {
     "data": {
      "image/png": "[encoded data removed]",
      "text/plain": [
       "<Figure size 360x360 with 1 Axes>"
      ]
     },
     "metadata": {
      "needs_background": "light"
     },
     "output_type": "display_data"
    }
   ],
   "source": [
    "sns.lmplot(x='alcohol', y='density', data=df, fit_reg=False)"
   ]
  },
  {
   "cell_type": "code",
   "execution_count": 59,
   "metadata": {},
   "outputs": [
    {
     "data": {
      "text/plain": [
       "<seaborn.axisgrid.FacetGrid at 0x2561ca20b38>"
      ]
     },
     "execution_count": 59,
     "metadata": {},
     "output_type": "execute_result"
    },
    {
     "data": {
      "image/png": "[encoded data removed]",
      "text/plain": [
       "<Figure size 402.375x360 with 1 Axes>"
      ]
     },
     "metadata": {
      "needs_background": "light"
     },
     "output_type": "display_data"
    }
   ],
   "source": [
    "# Scatterplot arguments\n",
    "sns.lmplot(x='alcohol', y='chlorides', data=df,\n",
    "           fit_reg=False, # Remove the regression line\n",
    "           hue='quality')   # Color by quality"
   ]
  },
  {
   "cell_type": "markdown",
   "metadata": {},
   "source": [
    "# distribution (bar chart) with line "
   ]
  },
  {
   "cell_type": "code",
   "execution_count": 75,
   "metadata": {},
   "outputs": [
    {
     "data": {
      "text/plain": [
       "<matplotlib.axes._subplots.AxesSubplot at 0x256202b44a8>"
      ]
     },
     "execution_count": 75,
     "metadata": {},
     "output_type": "execute_result"
    },
    {
     "data": {
      "image/png": "[encoded data removed]",
      "text/plain": [
       "<Figure size 432x288 with 1 Axes>"
      ]
     },
     "metadata": {
      "needs_background": "light"
     },
     "output_type": "display_data"
    }
   ],
   "source": [
    "# Enlarge the plot\n",
    "plt.figure(figsize=(6,4))\n",
    "\n",
    "sns.countplot(x='quality', data=df, hue='type')"
   ]
  },
  {
   "cell_type": "code",
   "execution_count": null,
   "metadata": {},
   "outputs": [],
   "source": [
    "time_val = df['Time'].values\n",
    "\n",
    "sns.distplot(time_val, ax=ax[1], color='b')\n",
    "ax[1].set_title('Distribution of Transaction Time', fontsize=14)\n",
    "ax[1].set_xlim([min(time_val), max(time_val)])\n",
    "\n",
    "\n",
    "\n",
    "#distribution based on group by \n",
    "ax = df.groupby('AgeOfStore').count()['MarketID'].plot(\n",
    "    kind='bar', \n",
    "    figsize=(12,7),\n",
    "    grid=True)\n",
    "\n",
    "ax.set_xlabel('age')\n",
    "ax.set_ylabel('count')\n",
    "ax.set_title('Overall Distributions Store Ages')\n",
    "\n",
    "plt.show()\n"
   ]
  },
  {
   "cell_type": "markdown",
   "metadata": {},
   "source": [
    "# Cat Plot"
   ]
  },
  {
   "cell_type": "code",
   "execution_count": 76,
   "metadata": {},
   "outputs": [
    {
     "data": {
      "text/plain": [
       "<seaborn.axisgrid.FacetGrid at 0x256202b40f0>"
      ]
     },
     "execution_count": 76,
     "metadata": {},
     "output_type": "execute_result"
    },
    {
     "data": {
      "image/png": "[encoded data removed]",
      "text/plain": [
       "<Figure size 504.85x432 with 1 Axes>"
      ]
     },
     "metadata": {},
     "output_type": "display_data"
    }
   ],
   "source": [
    "sns.set(style=\"whitegrid\")\n",
    "\n",
    "# Load the example Titanic dataset\n",
    "titanic = sns.load_dataset(\"titanic\")\n",
    "\n",
    "# Draw a nested barplot to show survival for class and sex\n",
    "g = sns.catplot(x=\"class\", y=\"survived\", hue=\"sex\", data=titanic,\n",
    "                height=6, kind=\"bar\", palette=\"muted\")\n",
    "g.despine(left=True)\n",
    "g.set_ylabels(\"survival probability\")"
   ]
  },
  {
   "cell_type": "markdown",
   "metadata": {},
   "source": [
    "# Density plot"
   ]
  },
  {
   "cell_type": "code",
   "execution_count": 77,
   "metadata": {},
   "outputs": [
    {
     "data": {
      "text/plain": [
       "<matplotlib.axes._subplots.AxesSubplot at 0x2561891a6a0>"
      ]
     },
     "execution_count": 77,
     "metadata": {},
     "output_type": "execute_result"
    },
    {
     "data": {
      "image/png": "[encoded data removed]",
      "text/plain": [
       "<Figure size 432x288 with 1 Axes>"
      ]
     },
     "metadata": {},
     "output_type": "display_data"
    }
   ],
   "source": [
    "sns.kdeplot(df.alcohol, df.density)"
   ]
  },
  {
   "cell_type": "markdown",
   "metadata": {},
   "source": [
    "# Joint Plot "
   ]
  },
  {
   "cell_type": "code",
   "execution_count": 78,
   "metadata": {},
   "outputs": [
    {
     "data": {
      "text/plain": [
       "<seaborn.axisgrid.JointGrid at 0x2561c4e7b70>"
      ]
     },
     "execution_count": 78,
     "metadata": {},
     "output_type": "execute_result"
    },
    {
     "data": {
      "image/png": "[encoded data removed]",
      "text/plain": [
       "<Figure size 432x432 with 3 Axes>"
      ]
     },
     "metadata": {},
     "output_type": "display_data"
    }
   ],
   "source": [
    "sns.jointplot(x='alcohol', y='density', data=df)"
   ]
  },
  {
   "cell_type": "markdown",
   "metadata": {},
   "source": [
    "# Time seriese"
   ]
  },
  {
   "cell_type": "code",
   "execution_count": null,
   "metadata": {},
   "outputs": [],
   "source": [
    "df['Qty'].plot()\n",
    "\n",
    "\n",
    "#it shows all columns as seprate visualization \n",
    "\n",
    "df.plot(subplots=True, figsize=(10,12))"
   ]
  },
  {
   "cell_type": "markdown",
   "metadata": {},
   "source": [
    "# Reshape"
   ]
  },
  {
   "cell_type": "code",
   "execution_count": null,
   "metadata": {},
   "outputs": [],
   "source": [
    "#in rehape the first number is number of rows [....]\n",
    "# and second number is number of columns [..,..,..]\n",
    "#example : reshape [3,2]\n",
    "[6,9]\n",
    "[4,6]\n",
    "[1,2]"
   ]
  },
  {
   "cell_type": "markdown",
   "metadata": {},
   "source": [
    "# Correlation plot"
   ]
  },
  {
   "cell_type": "code",
   "execution_count": null,
   "metadata": {},
   "outputs": [],
   "source": [
    "#method one\n",
    "def plot_corr(df,size=10):\n",
    "    '''Function plots a graphical correlation matrix for each pair of columns in the dataframe.\n",
    "\n",
    "    Input:\n",
    "        df: pandas DataFrame\n",
    "        size: vertical and horizontal size of the plot'''\n",
    "\n",
    "    corr = df.corr()\n",
    "    fig, ax = plt.subplots(figsize=(size, size))\n",
    "    ax.legend()\n",
    "    cax = ax.matshow(corr)\n",
    "    fig.colorbar(cax)\n",
    "    plt.xticks(range(len(corr.columns)), corr.columns, rotation='vertical')\n",
    "    plt.yticks(range(len(corr.columns)), corr.columns)\n",
    "    \n",
    "plot_corr(churn_df)\n",
    "\n",
    "\n",
    "#method two\n",
    "corr_all = df.corr()"
   ]
  },
  {
   "cell_type": "markdown",
   "metadata": {},
   "source": [
    "# Heatmap with corrolation numbers"
   ]
  },
  {
   "cell_type": "code",
   "execution_count": null,
   "metadata": {},
   "outputs": [],
   "source": [
    "# Compute the correlation matrix \n",
    "# exclude 'Open' variable\n",
    "corr_all = df.corr()\n",
    "\n",
    "# Generate a mask for the upper triangle\n",
    "mask = np.zeros_like(corr_all, dtype = np.bool)\n",
    "mask[np.triu_indices_from(mask)] = True\n",
    "\n",
    "# Set up the matplotlib figure\n",
    "f, ax = plt.subplots(figsize = (11, 9))\n",
    "\n",
    "# Draw the heatmap with the mask and correct aspect ratio\n",
    "sns.heatmap(corr_all, mask = mask,\n",
    "            square = True, linewidths = .5, ax = ax, cmap = \"BuPu\")      \n",
    "plt.show()"
   ]
  },
  {
   "cell_type": "markdown",
   "metadata": {},
   "source": [
    "# Understanding Percentiles"
   ]
  },
  {
   "cell_type": "code",
   "execution_count": 61,
   "metadata": {},
   "outputs": [
    {
     "name": "stdout",
     "output_type": "stream",
     "text": [
      "9.1\n",
      "10.3\n",
      "12.3\n",
      "13.4\n"
     ]
    },
    {
     "data": {
      "text/plain": [
       "0.05     9.0\n",
       "0.95    12.7\n",
       "Name: alcohol, dtype: float64"
      ]
     },
     "execution_count": 61,
     "metadata": {},
     "output_type": "execute_result"
    }
   ],
   "source": [
    "# The quantile function \n",
    "print(df[\"alcohol\"].quantile(0.1))\n",
    "print(df[\"alcohol\"].quantile(0.5))\n",
    "print(df[\"alcohol\"].quantile(0.9))\n",
    "print(df[\"alcohol\"].quantile(0.99))\n",
    "\n",
    "# What's the max alcohol value though?\n",
    "df[\"alcohol\"].max()\n",
    "\n",
    "\n",
    "# Quantile ranges\n",
    "df[\"alcohol\"].quantile(([0.05, 0.95]))"
   ]
  },
  {
   "cell_type": "markdown",
   "metadata": {},
   "source": [
    "# Skewed"
   ]
  },
  {
   "cell_type": "markdown",
   "metadata": {},
   "source": [
    "when we have data like identify fraud and non fraud and we have skewed (imbalanced) data like 99% not fraud and 1% fraud we need and should  scale our data.\n",
    "data  should be scaled as the other columns. On the other hand, we need to also create a sub sample of the dataframe in order to have an equal amount of Fraud and Non-Fraud cases\n",
    "\n",
    "What is a sub-Sample?\n",
    "In this scenario, our subsample will be a dataframe with a 50/50 ratio of fraud and non-fraud transactions. Meaning our sub-sample will have the same amount of fraud and non fraud transactions.\n",
    "\n",
    "Why do we create a sub-Sample (under sampling)?\n",
    "Overfitting: Our classification models will assume that in most cases there are no frauds! What we want for our model is to be certain when a fraud occurs.\n",
    "Wrong Correlations: Although we don't know what the \"V\" features stand for, it will be useful to understand how each of this features influence the result (Fraud or No Fraud) by having an imbalance dataframe we are not able to see the true correlations between the class and features\n",
    "\n",
    "** example: There are 492 cases of fraud in our dataset so we can randomly get 492 cases of non-fraud to create our new sub dataframe.\n",
    "We concat the 492 cases of fraud and non fraud, creating a new sub-sample."
   ]
  },
  {
   "cell_type": "markdown",
   "metadata": {},
   "source": [
    "# Under sampling"
   ]
  },
  {
   "cell_type": "markdown",
   "metadata": {},
   "source": [
    "In this phase of the project we will implement \"Random Under Sampling\" which basically consists of removing data in order to have a more balanced dataset and thus avoiding our models to overfitting.\n",
    "\n",
    "Steps:\n",
    "The first thing we have to do is determine how imbalanced is our class (use \"value_counts()\" on the class column to determine the amount for each label)\n",
    "Once we determine how many instances are considered fraud transactions (Fraud = \"1\") , we should bring the non-fraud transactions to the same amount as fraud transactions (assuming we want a 50/50 ratio), this will be equivalent to 492 cases of fraud and 492 cases of non-fraud transactions.\n",
    "After implementing this technique, we have a sub-sample of our dataframe with a 50/50 ratio with regards to our classes. Then the next step we will implement is to shuffle the data to see if our models can maintain a certain accuracy everytime we run this script.\n",
    "\n",
    "\n",
    "\n",
    "Note: The main issue with \"Random Under-Sampling\" is that we run the risk that our classification models will not perform as accurate as we would like to since there is a great deal of information loss (bringing 492 non-fraud transaction from 284,315 non-fraud transaction)"
   ]
  },
  {
   "cell_type": "markdown",
   "metadata": {},
   "source": [
    "# Y is Skewed or not"
   ]
  },
  {
   "cell_type": "code",
   "execution_count": null,
   "metadata": {},
   "outputs": [],
   "source": [
    "#to check if your Y is skewed or not you need to see the percentage of each class\n",
    "\n",
    "# The classes are heavily skewed we need to solve this issue later.\n",
    "print('No Frauds', round(df['Class'].value_counts()[0]/len(df) * 100,2), '% of the dataset') \n",
    "# it gets you the percentage of each class"
   ]
  },
  {
   "cell_type": "markdown",
   "metadata": {},
   "source": [
    "# clean  Categorical - Binary - numerical and labled columns"
   ]
  },
  {
   "cell_type": "code",
   "execution_count": null,
   "metadata": {},
   "outputs": [],
   "source": [
    "from sklearn.preprocessing import LabelEncoder\n",
    "from sklearn.preprocessing import StandardScaler\n",
    "\n",
    "#customer id col\n",
    "Id_col = ['customerID']\n",
    "\n",
    "#Target columns\n",
    "target_col = [\"Churn\"]\n",
    "\n",
    "#categorical columns\n",
    "cat_cols = churn_df.nunique()[churn_df.nunique() < 6].keys().tolist() \n",
    "#this 6 means each column should have less than 6 distinct categories\n",
    "cat_cols = [x for x in cat_cols if x not in target_col]\n",
    "\n",
    "#numerical columns\n",
    "num_cols = [x for x in churn_df.columns if x not in cat_cols + target_col + Id_col]\n",
    "\n",
    "#Binary columns with 2 values\n",
    "bin_cols = churn_df.nunique()[churn_df.nunique() == 2].keys().tolist()\n",
    "#it is equal 2 because binary column have only two distinct goup\n",
    "\n",
    "#Columns more than 2 values\n",
    "multi_cols = [i for i in cat_cols if i not in bin_cols]\n",
    "\n",
    "#Label encoding Binary columns\n",
    "le = LabelEncoder()\n",
    "for i in bin_cols :\n",
    "    churn_df[i] = le.fit_transform(churn_df[i])\n",
    "    \n",
    "#Duplicating columns for multi value columns\n",
    "churn_df = pd.get_dummies(data = churn_df, columns = multi_cols )\n",
    "churn_df.head()\n",
    "\n",
    "\n",
    "\n",
    "\n",
    "\n",
    "\n",
    "\n",
    "#second solution for categorical columns \n",
    "# One-hot encode the 'features_log_minmax_transform' data using pandas.get_dummies()\n",
    "features_final = pd.get_dummies(df)\n",
    "\n",
    "# Encode the 'income_raw' data to numerical values\n",
    "from sklearn.preprocessing import LabelEncoder\n",
    "\n",
    "encoder = LabelEncoder()\n",
    "income = nameofcolumn.apply(lambda x: 0 if x == \"<=50K\" else 1)\n",
    "income = pd.Series(encoder.fit_transform(nameofcolumn))\n",
    "\n",
    "# Print the number of features after one-hot encoding\n",
    "encoded = list(features_final.columns)\n",
    "print(\"{} total features after one-hot encoding.\".format(len(encoded)))"
   ]
  },
  {
   "cell_type": "markdown",
   "metadata": {},
   "source": [
    "# Scale numerical columns "
   ]
  },
  {
   "cell_type": "code",
   "execution_count": null,
   "metadata": {},
   "outputs": [],
   "source": [
    "#to do any kind of modeing we need to scale data when data have dferent type or ranges\n",
    "# first we need identify them then we can scale them\n",
    "\n",
    "#Scaling Numerical columns\n",
    "std = StandardScaler()\n",
    "\n",
    "# Scale data\n",
    "scaled = std.fit_transform(df[num_cols])\n",
    "scaled = pd.DataFrame(scaled,columns=num_cols)\n",
    "\n",
    "#dropping original values merging scaled values for numerical columns\n",
    "df_telcom_og = df.copy()\n",
    "df = df.drop(columns = num_cols,axis = 1)\n",
    "df = df.merge(scaled, left_index=True, right_index=True, how = \"left\")\n",
    "\n",
    "#churn_df.info()\n",
    "df.head()\n",
    "\n",
    "\n",
    "\n",
    "\n",
    "\n",
    "\n",
    "#this scaling is only for numerical columns \n",
    "# Initialize a scaler, then apply it to the features\n",
    "scaler = MinMaxScaler() # default=(0, 1)\n",
    "numerical = ['age', 'education-num', 'capital-gain', 'capital-loss', 'hours-per-week']\n",
    "\n",
    "# Make a copy of the our original df\n",
    "census_minmax_transform = pd.DataFrame(data = df)\n",
    "\n",
    "# Scale our numerica data\n",
    "census_minmax_transform[numerical] = scaler.fit_transform(census_minmax_transform[numerical])\n",
    "\n",
    "census_minmax_transform.head()\n",
    "\n",
    "\n",
    "\n",
    "\n",
    "\n",
    "#scaling third example \n",
    "from sklearn.preprocessing import StandardScaler, RobustScaler\n",
    "\n",
    "# RobustScaler is less prone to outliers.\n",
    "\n",
    "std_scaler = StandardScaler()\n",
    "rob_scaler = RobustScaler()\n",
    "\n",
    "df['scaled_amount'] = rob_scaler.fit_transform(df['Amount'].values.reshape(-1,1))\n",
    "df['scaled_time'] = rob_scaler.fit_transform(df['Time'].values.reshape(-1,1))\n",
    "\n",
    "df.drop(['Time','Amount'], axis=1, inplace=True)"
   ]
  },
  {
   "cell_type": "markdown",
   "metadata": {},
   "source": [
    "# Logistic regression "
   ]
  },
  {
   "cell_type": "code",
   "execution_count": null,
   "metadata": {},
   "outputs": [],
   "source": [
    "from sklearn.linear_model import LogisticRegression\n",
    "from sklearn.metrics import confusion_matrix\n",
    "from sklearn.metrics import classification_report\n",
    "\n",
    "model = LogisticRegression()\n",
    "model.fit(X_train, y_train)\n",
    "\n",
    "predictions = model.predict(X_test)\n",
    "score = model.score(X_test, y_test)\n",
    "\n",
    "print(\"Accuracy = \" + str(score))\n",
    "print(confusion_matrix(y_test, predictions))\n",
    "print(classification_report(y_test, predictions))"
   ]
  },
  {
   "cell_type": "markdown",
   "metadata": {},
   "source": [
    "# random forest"
   ]
  },
  {
   "cell_type": "code",
   "execution_count": null,
   "metadata": {},
   "outputs": [],
   "source": [
    "# Let's try Random Forests now to see if our resutls get better\n",
    "from sklearn.ensemble import RandomForestClassifier\n",
    "from sklearn.metrics import confusion_matrix\n",
    "from sklearn.metrics import classification_report\n",
    "\n",
    "model_rf = RandomForestClassifier()\n",
    "model_rf.fit(X_train, y_train)\n",
    "\n",
    "predictions = model_rf.predict(X_test)\n",
    "score = model_rf.score(X_test, y_test)\n",
    "\n",
    "print(\"Accuracy = \" + str(score))\n",
    "print(confusion_matrix(y_test, predictions))\n",
    "print(classification_report(y_test, predictions))"
   ]
  },
  {
   "cell_type": "markdown",
   "metadata": {},
   "source": [
    "# confusion numbers by formula"
   ]
  },
  {
   "cell_type": "code",
   "execution_count": null,
   "metadata": {},
   "outputs": [],
   "source": [
    "# Calculate accuracy\n",
    "accuracy = n_greater_50k / n_records\n",
    "\n",
    "# Calculating precision\n",
    "precision = n_greater_50k / (n_greater_50k + n_at_most_50k)\n",
    "\n",
    "#Calculating recall\n",
    "recall = n_greater_50k / (n_greater_50k + 0)\n",
    "\n",
    "# Calculate F-score using the formula above for beta = 0.5\n",
    "fscore =  (1  + (0.5*0.5)) * ( precision * recall / (( 0.5*0.5 * (precision))+ recall))\n",
    "\n",
    "# Print the results \n",
    "print(\"Naive Predictor: [Accuracy score: {:.4f}, F-score: {:.4f}]\".format(accuracy, fscore))"
   ]
  },
  {
   "cell_type": "markdown",
   "metadata": {},
   "source": [
    "# Deep learning"
   ]
  },
  {
   "cell_type": "code",
   "execution_count": null,
   "metadata": {},
   "outputs": [],
   "source": [
    "# Use the newest version of TensorFlow 2.0\n",
    "%tensorflow_version 2.x \n",
    "\n",
    "\n",
    "# Check to ensure we're using our GPU\n",
    "import tensorflow as tf\n",
    "\n",
    "tf.test.gpu_device_name()\n",
    "\n",
    "\n",
    "\n",
    "# Create a simple model\n",
    "import tensorflow.keras\n",
    "from tensorflow.keras.models import Sequential\n",
    "from tensorflow.keras.layers import Dense\n",
    "\n",
    "model = Sequential()\n",
    "\n",
    "model.add(Dense(20, kernel_initializer = \"uniform\",activation = \"relu\", input_dim=40))\n",
    "model.add(Dense(1, kernel_initializer = \"uniform\",activation = \"sigmoid\"))\n",
    "\n",
    "model.compile(optimizer= \"adam\",loss = \"binary_crossentropy\",metrics = [\"accuracy\"])\n",
    "\n",
    "\n",
    "\n",
    "# Display Model Summary and Show Parameters\n",
    "model.summary()\n",
    "\n",
    "\n",
    "\n",
    "# Start Training Our Classifier \n",
    "\n",
    "batch_size = 64\n",
    "epochs = 25\n",
    "\n",
    "history = model.fit(X_train,\n",
    "                    y_train,\n",
    "                    batch_size = batch_size,\n",
    "                    epochs = epochs,\n",
    "                    verbose = 1,\n",
    "                    validation_data = (X_test, y_test))\n",
    "\n",
    "score = model.evaluate(X_test, y_test, verbose=0)\n",
    "print('Test loss:', score[0])\n",
    "print('Test accuracy:', score[1])\n",
    "\n",
    "\n",
    "\n",
    "predictions = model.predict(X_test)\n",
    "predictions = (predictions > 0.5)\n",
    "\n",
    "print(confusion_matrix(y_test, predictions))\n",
    "print(classification_report(y_test, predictions))"
   ]
  },
  {
   "cell_type": "markdown",
   "metadata": {},
   "source": [
    "# Let's try a Deeper Model and Learn to use Checkpoints and Early stopping"
   ]
  },
  {
   "cell_type": "code",
   "execution_count": null,
   "metadata": {},
   "outputs": [],
   "source": [
    "from tensorflow.keras.regularizers import l2\n",
    "from tensorflow.keras.layers import Dropout\n",
    "from tensorflow.keras.callbacks import ModelCheckpoint\n",
    "\n",
    "model2 = Sequential()\n",
    "\n",
    "# Hidden Layer 1\n",
    "model2.add(Dense(2000, activation='relu', input_dim=40, kernel_regularizer=l2(0.01)))\n",
    "model2.add(Dropout(0.3, noise_shape=None, seed=None))\n",
    "\n",
    "# Hidden Layer 1\n",
    "model2.add(Dense(1000, activation='relu', input_dim=18, kernel_regularizer=l2(0.01)))\n",
    "model2.add(Dropout(0.3, noise_shape=None, seed=None))\n",
    "\n",
    "# Hidden Layer 2\n",
    "model2.add(Dense(500, activation = 'relu', kernel_regularizer=l2(0.01)))\n",
    "model2.add(Dropout(0.3, noise_shape=None, seed=None))\n",
    "\n",
    "model2.add(Dense(1, activation='sigmoid'))\n",
    "\n",
    "model2.summary()\n",
    "\n",
    "# Create our checkpoint so that we save each model after each epoch\n",
    "checkpoint = ModelCheckpoint(\"deep_model_checkpoint.h5\",\n",
    "                             monitor=\"val_loss\",\n",
    "                             mode=\"min\",\n",
    "                             save_best_only = True,\n",
    "                             verbose=1)\n",
    "\n",
    "\n",
    "\n",
    "model2.compile(loss='binary_crossentropy', optimizer='adam', metrics=['accuracy'])\n",
    "\n",
    "\n",
    "\n",
    "# Define our earling stoppping criteria\n",
    "from tensorflow.keras.callbacks import EarlyStopping \n",
    "\n",
    "earlystop = EarlyStopping(monitor = 'val_loss', # value being monitored for improvement\n",
    "                          min_delta = 0, #Abs value and is the min change required before we stop\n",
    "                          patience = 2, #Number of epochs we wait before stopping \n",
    "                          verbose = 1,\n",
    "                          restore_best_weights = True) #keeps the best weigths once stopped\n",
    "\n",
    "# we put our call backs into a callback list\n",
    "callbacks = [earlystop, checkpoint]\n",
    "\n",
    "\n",
    "\n",
    "batch_size = 32\n",
    "epochs = 10\n",
    "\n",
    "history = model2.fit(X_train,\n",
    "                    y_train,\n",
    "                    batch_size = batch_size,\n",
    "                    epochs = epochs,\n",
    "                    verbose = 1,\n",
    "                    # NOTE We are adding our callbacks here\n",
    "                    callbacks = callbacks,\n",
    "                    validation_data = (X_test, y_test))\n",
    "\n",
    "score = model2.evaluate(X_test, y_test, verbose=0)\n",
    "print('Test loss:', score[0])\n",
    "print('Test accuracy:', score[1])"
   ]
  },
  {
   "cell_type": "markdown",
   "metadata": {},
   "source": [
    "# Confusion matrix"
   ]
  },
  {
   "cell_type": "code",
   "execution_count": null,
   "metadata": {},
   "outputs": [],
   "source": [
    "predictions = model.predict(X_test)\n",
    "score = model.score(X_test, y_test)\n",
    "\n",
    "print(\"Accuracy = \" + str(score))\n",
    "print(confusion_matrix(y_test, predictions))\n",
    "print(classification_report(y_test, predictions))"
   ]
  },
  {
   "cell_type": "markdown",
   "metadata": {},
   "source": [
    "# Feature Importance using Logistic Regression"
   ]
  },
  {
   "cell_type": "code",
   "execution_count": null,
   "metadata": {},
   "outputs": [],
   "source": [
    "# Let's see what features mattered most i.e. Feature Importance\n",
    "# We sort on the co-efficients with the largest weights as those impact the resulting output the most \n",
    "coef = model.coef_[0]  # model means logistic regression model \n",
    "coef = [abs(number) for number in coef]\n",
    "print(coef)\n",
    "\n",
    "\n",
    "# Sorting on Feature Importance\n",
    "sorted_index = sorted(range(len(coef)), key = lambda k: coef[k], reverse = True)\n",
    "for idx in sorted_index:\n",
    "    print(cols[idx])"
   ]
  },
  {
   "cell_type": "markdown",
   "metadata": {},
   "source": [
    "# Saving & Loading Models"
   ]
  },
  {
   "cell_type": "code",
   "execution_count": null,
   "metadata": {},
   "outputs": [],
   "source": [
    "import pickle\n",
    "\n",
    "# save\n",
    "with open('model.pkl','wb') as f:\n",
    "    pickle.dump(model_rf, f)\n",
    "\n",
    "# load\n",
    "with open('model.pkl', 'rb') as f:\n",
    "    loaded_model_rf = pickle.load(f)"
   ]
  },
  {
   "cell_type": "markdown",
   "metadata": {},
   "source": [
    "# AB test"
   ]
  },
  {
   "cell_type": "markdown",
   "metadata": {},
   "source": [
    "Hₒ: p = pₒ\n",
    "Hₐ: p ≠ pₒ\n",
    "where p and pₒ stand for the new and old design,\n",
    "confidence level of 95% and alpha = 0.05\n",
    "\n",
    "The α value is a threshold we set, by which we say “if the probability of observing a result as extreme or more (p-value) is lower than α, then we reject the Null hypothesis and accept alternative one”. Since our α=0.05 (indicating 5% probability), our confidence (1 — α) is 95%.we want to be 95% confident it is statistically different from the conversion rate of our old design, before we decide to reject the Null hypothesis Hₒ.\n",
    "P-value measures the probability that the results would occur by random chance. Therefore the smaller the p-value is, the more statistically significant difference there will be between the two groups\n",
    "\n",
    "\n",
    "for AB test we need to define metrics and kpi from different groups\n",
    "KPI likes mean, count, std\n",
    "then we need to consider T-value And P-value : The t-value measures the degree of difference relative to the variation in our data\n",
    "\n",
    "\n",
    "we need to choose sample size \n",
    "the larger the sample size, the more precise our estimates (i.e. the smaller our confidence intervals), the higher the chance to detect a difference in the two groups, if present.\n",
    "\n",
    "\n",
    "So how many people should we have in each group?\n",
    "The sample size we need is estimated through something called Power analysis, and it depends on a few factors:\n",
    "\n",
    "Power of the test (1 — β) — This represents the probability of finding a statistical difference between the groups in our test when a difference is actually present. This is usually set at 0.8 by convention (here’s more info on statistical power, if you are curious)\n",
    "Alpha value (α) — The critical value we set earlier to 0.05\n",
    "Effect size — How big of a difference we expect there to be between the conversion rates"
   ]
  },
  {
   "cell_type": "markdown",
   "metadata": {},
   "source": [
    "# Get sample size for AB test"
   ]
  },
  {
   "cell_type": "code",
   "execution_count": null,
   "metadata": {},
   "outputs": [],
   "source": [
    "# Packages imports\n",
    "import numpy as np\n",
    "import pandas as pd\n",
    "import scipy.stats as stats\n",
    "import statsmodels.stats.api as sms\n",
    "import matplotlib as mpl\n",
    "import matplotlib.pyplot as plt\n",
    "import seaborn as sns\n",
    "from math import ceil\n",
    "\n",
    "%matplotlib inline\n",
    "\n",
    "# Some plot styling preferences\n",
    "plt.style.use('seaborn-whitegrid')\n",
    "font = {'family' : 'Helvetica',\n",
    "        'weight' : 'bold',\n",
    "        'size'   : 14}\n",
    "\n",
    "mpl.rc('font', **font)\n",
    "effect_size = sms.proportion_effectsize(0.13, 0.15)    # Calculating effect size based on our expected rates\n",
    "\n",
    "required_n = sms.NormalIndPower().solve_power(\n",
    "    effect_size, \n",
    "    power=0.8, \n",
    "    alpha=0.05, \n",
    "    ratio=1\n",
    "    )                                                  # Calculating sample size needed\n",
    "\n",
    "required_n = ceil(required_n)                          # Rounding up to next whole number                          \n",
    "\n",
    "print(required_n)"
   ]
  },
  {
   "cell_type": "code",
   "execution_count": null,
   "metadata": {},
   "outputs": [],
   "source": [
    "#Comparing group 1 and 2 in an A/B Test\n",
    "# Computing the t and p values using scipy ( for t-test and p-value we should have two groups at least)\n",
    "from scipy import stats\n",
    "\n",
    "t, p = stats.ttest_ind(df.loc[df['Promotion'] == 1, 'SalesInThousands'].values,\n",
    "                       df.loc[df['Promotion'] == 2, 'SalesInThousands'].values, \n",
    "                       equal_var=False)\n",
    "print(\"t-value = \" +str(t))\n",
    "print(\"p-value = \" +str(p))\n",
    "\n",
    "\n",
    "\n",
    "#second way\n",
    "from statsmodels.stats.proportion import proportions_ztest, proportion_confint\n",
    "control_results = ab_test[ab_test['group'] == 'control']['converted']\n",
    "treatment_results = ab_test[ab_test['group'] == 'treatment']['converted']\n",
    "n_con = control_results.count()\n",
    "n_treat = treatment_results.count()\n",
    "successes = [control_results.sum(), treatment_results.sum()]\n",
    "nobs = [n_con, n_treat]\n",
    "\n",
    "z_stat, pval = proportions_ztest(successes, nobs=nobs)\n",
    "(lower_con, lower_treat), (upper_con, upper_treat) = proportion_confint(successes, nobs=nobs, alpha=0.05)\n",
    "\n",
    "print(f'z statistic: {z_stat:.2f}')\n",
    "print(f'p-value: {pval:.3f}')\n",
    "print(f'ci 95% for control group: [{lower_con:.3f}, {upper_con:.3f}]')\n",
    "print(f'ci 95% for treatment group: [{lower_treat:.3f}, {upper_treat:.3f}]')"
   ]
  },
  {
   "cell_type": "markdown",
   "metadata": {},
   "source": [
    "Analysis of P and t-values:\n",
    "\n",
    "Compare the average amount\n",
    "But, running a t-test between these two groups, gives us a t-value of 1.556 and a p-value of 0.121.\n",
    "\n",
    "The computed p-value is a lot higher than 0.05, past the threshold for statistical significance\n",
    "\n",
    "what does it mean when p-value is higher than threshold in AB test? since the p-value is higher than threshold, we cann't reject null hypothesis and we can accpet alternative model. we still go with the original model"
   ]
  },
  {
   "cell_type": "markdown",
   "metadata": {},
   "source": [
    "# Probabilities"
   ]
  },
  {
   "cell_type": "code",
   "execution_count": 1,
   "metadata": {},
   "outputs": [
    {
     "data": {
      "text/plain": [
       "0.478"
      ]
     },
     "execution_count": 1,
     "metadata": {},
     "output_type": "execute_result"
    }
   ],
   "source": [
    "from numpy.random import seed, randint\n",
    "\n",
    "seed(1)\n",
    "\n",
    "def coin_toss(flips):\n",
    "  heads = 0\n",
    "  tails = 0\n",
    "  for i in range(0,flips):\n",
    "    if randint(0, 2) == 1:\n",
    "        heads += 1\n",
    "    else:\n",
    "        tails += 1\n",
    "  return heads/flips\n",
    "\n",
    "coin_toss(1000)"
   ]
  },
  {
   "cell_type": "code",
   "execution_count": 2,
   "metadata": {},
   "outputs": [],
   "source": [
    "probabilities = []\n",
    "for i in range(1,1000):\n",
    "  results = (i,coin_toss(i))\n",
    "  probabilities.append(results)"
   ]
  },
  {
   "cell_type": "code",
   "execution_count": 3,
   "metadata": {},
   "outputs": [
    {
     "name": "stderr",
     "output_type": "stream",
     "text": [
      "C:\\Users\\usdaje01\\AppData\\Local\\Continuum\\anaconda3\\lib\\site-packages\\pandas\\compat\\_optional.py:138: UserWarning: Pandas requires version '2.7.0' or newer of 'numexpr' (version '2.6.9' currently installed).\n",
      "  warnings.warn(msg, UserWarning)\n"
     ]
    },
    {
     "data": {
      "text/html": [
       "<div>\n",
       "<style scoped>\n",
       "    .dataframe tbody tr th:only-of-type {\n",
       "        vertical-align: middle;\n",
       "    }\n",
       "\n",
       "    .dataframe tbody tr th {\n",
       "        vertical-align: top;\n",
       "    }\n",
       "\n",
       "    .dataframe thead th {\n",
       "        text-align: right;\n",
       "    }\n",
       "</style>\n",
       "<table border=\"1\" class=\"dataframe\">\n",
       "  <thead>\n",
       "    <tr style=\"text-align: right;\">\n",
       "      <th></th>\n",
       "      <th>Number of Coin Tosses</th>\n",
       "      <th>Probability</th>\n",
       "    </tr>\n",
       "  </thead>\n",
       "  <tbody>\n",
       "    <tr>\n",
       "      <th>0</th>\n",
       "      <td>1</td>\n",
       "      <td>0.000000</td>\n",
       "    </tr>\n",
       "    <tr>\n",
       "      <th>1</th>\n",
       "      <td>2</td>\n",
       "      <td>0.000000</td>\n",
       "    </tr>\n",
       "    <tr>\n",
       "      <th>2</th>\n",
       "      <td>3</td>\n",
       "      <td>0.333333</td>\n",
       "    </tr>\n",
       "    <tr>\n",
       "      <th>3</th>\n",
       "      <td>4</td>\n",
       "      <td>0.500000</td>\n",
       "    </tr>\n",
       "    <tr>\n",
       "      <th>4</th>\n",
       "      <td>5</td>\n",
       "      <td>0.600000</td>\n",
       "    </tr>\n",
       "    <tr>\n",
       "      <th>5</th>\n",
       "      <td>6</td>\n",
       "      <td>1.000000</td>\n",
       "    </tr>\n",
       "    <tr>\n",
       "      <th>6</th>\n",
       "      <td>7</td>\n",
       "      <td>0.571429</td>\n",
       "    </tr>\n",
       "    <tr>\n",
       "      <th>7</th>\n",
       "      <td>8</td>\n",
       "      <td>0.375000</td>\n",
       "    </tr>\n",
       "    <tr>\n",
       "      <th>8</th>\n",
       "      <td>9</td>\n",
       "      <td>0.111111</td>\n",
       "    </tr>\n",
       "    <tr>\n",
       "      <th>9</th>\n",
       "      <td>10</td>\n",
       "      <td>0.700000</td>\n",
       "    </tr>\n",
       "    <tr>\n",
       "      <th>10</th>\n",
       "      <td>11</td>\n",
       "      <td>0.636364</td>\n",
       "    </tr>\n",
       "    <tr>\n",
       "      <th>11</th>\n",
       "      <td>12</td>\n",
       "      <td>0.416667</td>\n",
       "    </tr>\n",
       "    <tr>\n",
       "      <th>12</th>\n",
       "      <td>13</td>\n",
       "      <td>0.692308</td>\n",
       "    </tr>\n",
       "    <tr>\n",
       "      <th>13</th>\n",
       "      <td>14</td>\n",
       "      <td>0.357143</td>\n",
       "    </tr>\n",
       "    <tr>\n",
       "      <th>14</th>\n",
       "      <td>15</td>\n",
       "      <td>0.533333</td>\n",
       "    </tr>\n",
       "  </tbody>\n",
       "</table>\n",
       "</div>"
      ],
      "text/plain": [
       "    Number of Coin Tosses  Probability\n",
       "0                       1     0.000000\n",
       "1                       2     0.000000\n",
       "2                       3     0.333333\n",
       "3                       4     0.500000\n",
       "4                       5     0.600000\n",
       "5                       6     1.000000\n",
       "6                       7     0.571429\n",
       "7                       8     0.375000\n",
       "8                       9     0.111111\n",
       "9                      10     0.700000\n",
       "10                     11     0.636364\n",
       "11                     12     0.416667\n",
       "12                     13     0.692308\n",
       "13                     14     0.357143\n",
       "14                     15     0.533333"
      ]
     },
     "execution_count": 3,
     "metadata": {},
     "output_type": "execute_result"
    }
   ],
   "source": [
    "# Convert our data to a dataframe\n",
    "import pandas as pd\n",
    "\n",
    "df = pd.DataFrame(probabilities)\n",
    "df.columns = ['Number of Coin Tosses', 'Probability']\n",
    "df.head(15)"
   ]
  },
  {
   "cell_type": "code",
   "execution_count": 5,
   "metadata": {},
   "outputs": [
    {
     "data": {
      "text/plain": [
       "<matplotlib.lines.Line2D at 0x20b51b28a58>"
      ]
     },
     "execution_count": 5,
     "metadata": {},
     "output_type": "execute_result"
    },
    {
     "data": {
      "image/png": "[encoded data removed]",
      "text/plain": [
       "<Figure size 402.375x360 with 1 Axes>"
      ]
     },
     "metadata": {
      "needs_background": "light"
     },
     "output_type": "display_data"
    }
   ],
   "source": [
    "# Now let's create our plot\n",
    "import matplotlib.pyplot as plt\n",
    "import seaborn as sns\n",
    "\n",
    "sns.relplot(x=\"Number of Coin Tosses\", y=\"Probability\", ci=None, size=1, kind=\"line\", data=df)\n",
    "plt.axhline(0.5, color = 'Red', label = '0.5')"
   ]
  },
  {
   "cell_type": "code",
   "execution_count": null,
   "metadata": {},
   "outputs": [],
   "source": []
  }
 ],
 "metadata": {
  "kernelspec": {
   "display_name": "Python 3",
   "language": "python",
   "name": "python3"
  },
  "language_info": {
   "codemirror_mode": {
    "name": "ipython",
    "version": 3
   },
   "file_extension": ".py",
   "mimetype": "text/x-python",
   "name": "python",
   "nbconvert_exporter": "python",
   "pygments_lexer": "ipython3",
   "version": "3.7.3"
  }
 },
 "nbformat": 4,
 "nbformat_minor": 2
}
